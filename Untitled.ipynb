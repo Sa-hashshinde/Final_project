{
 "cells": [
  {
   "cell_type": "code",
   "execution_count": 1,
   "id": "36481572-1eac-4b62-b6ee-17b6f31ac5c6",
   "metadata": {},
   "outputs": [
    {
     "name": "stdout",
     "output_type": "stream",
     "text": [
      "Requirement already satisfied: pillow in c:\\users\\91721\\appdata\\local\\programs\\python\\python311\\lib\\site-packages (10.4.0)Note: you may need to restart the kernel to use updated packages.\n",
      "\n"
     ]
    }
   ],
   "source": [
    "pip install pillow"
   ]
  },
  {
   "cell_type": "code",
   "execution_count": 2,
   "id": "a840851d-c57c-4285-b306-75a828d6b141",
   "metadata": {},
   "outputs": [],
   "source": [
    "import pandas as pd"
   ]
  },
  {
   "cell_type": "code",
   "execution_count": 3,
   "id": "f842a5fa-997d-43a8-9a1d-1a83147c72ee",
   "metadata": {},
   "outputs": [],
   "source": [
    "df = pd.read_csv(\"Nail.csv\")"
   ]
  },
  {
   "cell_type": "code",
   "execution_count": 4,
   "id": "81da5e0a-b908-47b5-a2b5-235dc69d1432",
   "metadata": {},
   "outputs": [
    {
     "data": {
      "text/html": [
       "<div>\n",
       "<style scoped>\n",
       "    .dataframe tbody tr th:only-of-type {\n",
       "        vertical-align: middle;\n",
       "    }\n",
       "\n",
       "    .dataframe tbody tr th {\n",
       "        vertical-align: top;\n",
       "    }\n",
       "\n",
       "    .dataframe thead th {\n",
       "        text-align: right;\n",
       "    }\n",
       "</style>\n",
       "<table border=\"1\" class=\"dataframe\">\n",
       "  <thead>\n",
       "    <tr style=\"text-align: right;\">\n",
       "      <th></th>\n",
       "      <th>Path</th>\n",
       "      <th>Pregnant/Non-pregnant</th>\n",
       "    </tr>\n",
       "  </thead>\n",
       "  <tbody>\n",
       "    <tr>\n",
       "      <th>0</th>\n",
       "      <td>C:\\Users\\91721\\Desktop\\Final_project\\nail_imgs...</td>\n",
       "      <td>Pregnant</td>\n",
       "    </tr>\n",
       "    <tr>\n",
       "      <th>1</th>\n",
       "      <td>C:\\Users\\91721\\Desktop\\Final_project\\nail_imgs...</td>\n",
       "      <td>Pregnant</td>\n",
       "    </tr>\n",
       "    <tr>\n",
       "      <th>2</th>\n",
       "      <td>C:\\Users\\91721\\Desktop\\Final_project\\nail_imgs...</td>\n",
       "      <td>Pregnant</td>\n",
       "    </tr>\n",
       "    <tr>\n",
       "      <th>3</th>\n",
       "      <td>C:\\Users\\91721\\Desktop\\Final_project\\nail_imgs...</td>\n",
       "      <td>Pregnant</td>\n",
       "    </tr>\n",
       "    <tr>\n",
       "      <th>4</th>\n",
       "      <td>C:\\Users\\91721\\Desktop\\Final_project\\nail_imgs...</td>\n",
       "      <td>Pregnant</td>\n",
       "    </tr>\n",
       "  </tbody>\n",
       "</table>\n",
       "</div>"
      ],
      "text/plain": [
       "                                                Path Pregnant/Non-pregnant\n",
       "0  C:\\Users\\91721\\Desktop\\Final_project\\nail_imgs...              Pregnant\n",
       "1  C:\\Users\\91721\\Desktop\\Final_project\\nail_imgs...              Pregnant\n",
       "2  C:\\Users\\91721\\Desktop\\Final_project\\nail_imgs...              Pregnant\n",
       "3  C:\\Users\\91721\\Desktop\\Final_project\\nail_imgs...              Pregnant\n",
       "4  C:\\Users\\91721\\Desktop\\Final_project\\nail_imgs...              Pregnant"
      ]
     },
     "execution_count": 4,
     "metadata": {},
     "output_type": "execute_result"
    }
   ],
   "source": [
    "df.head()"
   ]
  },
  {
   "cell_type": "code",
   "execution_count": 5,
   "id": "e21978ee-1d66-4355-ac3e-59d774c8616a",
   "metadata": {},
   "outputs": [],
   "source": [
    "images = df['Path'].unique()"
   ]
  },
  {
   "cell_type": "code",
   "execution_count": 6,
   "id": "88ec96d5-b5d2-4ef8-9e78-d9988d96080e",
   "metadata": {},
   "outputs": [
    {
     "data": {
      "text/plain": [
       "184"
      ]
     },
     "execution_count": 6,
     "metadata": {},
     "output_type": "execute_result"
    }
   ],
   "source": [
    "len(images)"
   ]
  },
  {
   "cell_type": "code",
   "execution_count": 7,
   "id": "b9a17688-d641-4914-8cce-2a976896c94b",
   "metadata": {},
   "outputs": [],
   "source": [
    "#80% train and 20% test\n",
    "img_df = pd.DataFrame(images,columns=['Path'])\n",
    "#img_df.head()\n",
    "img_train = tuple(img_df.sample(frac=0.8)['Path']) #shuffle and pick 80% of images"
   ]
  },
  {
   "cell_type": "code",
   "execution_count": 8,
   "id": "51558237-2d54-4daf-b5ee-ae9dc78e8098",
   "metadata": {},
   "outputs": [
    {
     "data": {
      "text/plain": [
       "('C:\\\\Users\\\\91721\\\\Desktop\\\\Final_project\\\\nail_imgs\\\\k16.jpeg',\n",
       " 'C:\\\\Users\\\\91721\\\\Desktop\\\\Final_project\\\\nail_imgs\\\\n12.jpeg',\n",
       " 'C:\\\\Users\\\\91721\\\\Desktop\\\\Final_project\\\\nail_imgs\\\\k21.jpeg',\n",
       " 'C:\\\\Users\\\\91721\\\\Desktop\\\\Final_project\\\\nail_imgs\\\\h31.jpg',\n",
       " 'C:\\\\Users\\\\91721\\\\Desktop\\\\Final_project\\\\nail_imgs\\\\k31.jpeg',\n",
       " 'C:\\\\Users\\\\91721\\\\Desktop\\\\Final_project\\\\nail_imgs\\\\k17.jpeg',\n",
       " 'C:\\\\Users\\\\91721\\\\Desktop\\\\Final_project\\\\nail_imgs\\\\p32.jpeg',\n",
       " 'C:\\\\Users\\\\91721\\\\Desktop\\\\Final_project\\\\nail_imgs\\\\n6.jpg',\n",
       " 'C:\\\\Users\\\\91721\\\\Desktop\\\\Final_project\\\\nail_imgs\\\\p26.jpeg',\n",
       " 'C:\\\\Users\\\\91721\\\\Desktop\\\\Final_project\\\\nail_imgs\\\\h45.jpg',\n",
       " 'C:\\\\Users\\\\91721\\\\Desktop\\\\Final_project\\\\nail_imgs\\\\p4.jpeg',\n",
       " 'C:\\\\Users\\\\91721\\\\Desktop\\\\Final_project\\\\nail_imgs\\\\g5.jpeg',\n",
       " 'C:\\\\Users\\\\91721\\\\Desktop\\\\Final_project\\\\nail_imgs\\\\p21.jpeg',\n",
       " 'C:\\\\Users\\\\91721\\\\Desktop\\\\Final_project\\\\nail_imgs\\\\h21.jpg',\n",
       " 'C:\\\\Users\\\\91721\\\\Desktop\\\\Final_project\\\\nail_imgs\\\\p17.jpeg',\n",
       " 'C:\\\\Users\\\\91721\\\\Desktop\\\\Final_project\\\\nail_imgs\\\\h44.jpg',\n",
       " 'C:\\\\Users\\\\91721\\\\Desktop\\\\Final_project\\\\nail_imgs\\\\k35.jpg',\n",
       " 'C:\\\\Users\\\\91721\\\\Desktop\\\\Final_project\\\\nail_imgs\\\\p41.jpeg',\n",
       " 'C:\\\\Users\\\\91721\\\\Desktop\\\\Final_project\\\\nail_imgs\\\\h54.jpg',\n",
       " 'C:\\\\Users\\\\91721\\\\Desktop\\\\Final_project\\\\nail_imgs\\\\h13.jpg',\n",
       " 'C:\\\\Users\\\\91721\\\\Desktop\\\\Final_project\\\\nail_imgs\\\\n1.jpg',\n",
       " 'C:\\\\Users\\\\91721\\\\Desktop\\\\Final_project\\\\nail_imgs\\\\h29.jpg',\n",
       " 'C:\\\\Users\\\\91721\\\\Desktop\\\\Final_project\\\\nail_imgs\\\\g12.jpeg',\n",
       " 'C:\\\\Users\\\\91721\\\\Desktop\\\\Final_project\\\\nail_imgs\\\\n5.jpg',\n",
       " 'C:\\\\Users\\\\91721\\\\Desktop\\\\Final_project\\\\nail_imgs\\\\p38.jpeg',\n",
       " 'C:\\\\Users\\\\91721\\\\Desktop\\\\Final_project\\\\nail_imgs\\\\n11.jpg',\n",
       " 'C:\\\\Users\\\\91721\\\\Desktop\\\\Final_project\\\\nail_imgs\\\\h34.jpg',\n",
       " 'C:\\\\Users\\\\91721\\\\Desktop\\\\Final_project\\\\nail_imgs\\\\p23.jpeg',\n",
       " 'C:\\\\Users\\\\91721\\\\Desktop\\\\Final_project\\\\nail_imgs\\\\p31.jpeg',\n",
       " 'C:\\\\Users\\\\91721\\\\Desktop\\\\Final_project\\\\nail_imgs\\\\h37.jpg',\n",
       " 'C:\\\\Users\\\\91721\\\\Desktop\\\\Final_project\\\\nail_imgs\\\\p53.jpeg',\n",
       " 'C:\\\\Users\\\\91721\\\\Desktop\\\\Final_project\\\\nail_imgs\\\\k40.jpeg',\n",
       " 'C:\\\\Users\\\\91721\\\\Desktop\\\\Final_project\\\\nail_imgs\\\\n3.jpg',\n",
       " 'C:\\\\Users\\\\91721\\\\Desktop\\\\Final_project\\\\nail_imgs\\\\h24.jpg',\n",
       " 'C:\\\\Users\\\\91721\\\\Desktop\\\\Final_project\\\\nail_imgs\\\\p51.jpeg',\n",
       " 'C:\\\\Users\\\\91721\\\\Desktop\\\\Final_project\\\\nail_imgs\\\\h46.jpg',\n",
       " 'C:\\\\Users\\\\91721\\\\Desktop\\\\Final_project\\\\nail_imgs\\\\h39.jpg',\n",
       " 'C:\\\\Users\\\\91721\\\\Desktop\\\\Final_project\\\\nail_imgs\\\\h12.jpg',\n",
       " 'C:\\\\Users\\\\91721\\\\Desktop\\\\Final_project\\\\nail_imgs\\\\p1.jpeg',\n",
       " 'C:\\\\Users\\\\91721\\\\Desktop\\\\Final_project\\\\nail_imgs\\\\p39.jpeg',\n",
       " 'C:\\\\Users\\\\91721\\\\Desktop\\\\Final_project\\\\nail_imgs\\\\k38.jpeg',\n",
       " 'C:\\\\Users\\\\91721\\\\Desktop\\\\Final_project\\\\nail_imgs\\\\k23.jpeg',\n",
       " 'C:\\\\Users\\\\91721\\\\Desktop\\\\Final_project\\\\nail_imgs\\\\n16.jpeg',\n",
       " 'C:\\\\Users\\\\91721\\\\Desktop\\\\Final_project\\\\nail_imgs\\\\g16.jpeg',\n",
       " 'C:\\\\Users\\\\91721\\\\Desktop\\\\Final_project\\\\nail_imgs\\\\n15.jpeg',\n",
       " 'C:\\\\Users\\\\91721\\\\Desktop\\\\Final_project\\\\nail_imgs\\\\k36.jpeg',\n",
       " 'C:\\\\Users\\\\91721\\\\Desktop\\\\Final_project\\\\nail_imgs\\\\p47.jpeg',\n",
       " 'C:\\\\Users\\\\91721\\\\Desktop\\\\Final_project\\\\nail_imgs\\\\g18.jpeg',\n",
       " 'C:\\\\Users\\\\91721\\\\Desktop\\\\Final_project\\\\nail_imgs\\\\g8.jpeg',\n",
       " 'C:\\\\Users\\\\91721\\\\Desktop\\\\Final_project\\\\nail_imgs\\\\g7.jpeg',\n",
       " 'C:\\\\Users\\\\91721\\\\Desktop\\\\Final_project\\\\nail_imgs\\\\g10.jpeg',\n",
       " 'C:\\\\Users\\\\91721\\\\Desktop\\\\Final_project\\\\nail_imgs\\\\g27.jpeg',\n",
       " 'C:\\\\Users\\\\91721\\\\Desktop\\\\Final_project\\\\nail_imgs\\\\h49.jpg',\n",
       " 'C:\\\\Users\\\\91721\\\\Desktop\\\\Final_project\\\\nail_imgs\\\\k33.jpg',\n",
       " 'C:\\\\Users\\\\91721\\\\Desktop\\\\Final_project\\\\nail_imgs\\\\h11.jpg',\n",
       " 'C:\\\\Users\\\\91721\\\\Desktop\\\\Final_project\\\\nail_imgs\\\\g24.jpeg',\n",
       " 'C:\\\\Users\\\\91721\\\\Desktop\\\\Final_project\\\\nail_imgs\\\\p29.jpeg',\n",
       " 'C:\\\\Users\\\\91721\\\\Desktop\\\\Final_project\\\\nail_imgs\\\\p50.jpeg',\n",
       " 'C:\\\\Users\\\\91721\\\\Desktop\\\\Final_project\\\\nail_imgs\\\\p37.jpeg',\n",
       " 'C:\\\\Users\\\\91721\\\\Desktop\\\\Final_project\\\\nail_imgs\\\\p10.jpeg',\n",
       " 'C:\\\\Users\\\\91721\\\\Desktop\\\\Final_project\\\\nail_imgs\\\\k30.jpeg',\n",
       " 'C:\\\\Users\\\\91721\\\\Desktop\\\\Final_project\\\\nail_imgs\\\\k12.jpeg',\n",
       " 'C:\\\\Users\\\\91721\\\\Desktop\\\\Final_project\\\\nail_imgs\\\\g2.jpeg',\n",
       " 'C:\\\\Users\\\\91721\\\\Desktop\\\\Final_project\\\\nail_imgs\\\\n13.jpeg',\n",
       " 'C:\\\\Users\\\\91721\\\\Desktop\\\\Final_project\\\\nail_imgs\\\\g20.jpeg',\n",
       " 'C:\\\\Users\\\\91721\\\\Desktop\\\\Final_project\\\\nail_imgs\\\\h17.jpg',\n",
       " 'C:\\\\Users\\\\91721\\\\Desktop\\\\Final_project\\\\nail_imgs\\\\h35.jpg',\n",
       " 'C:\\\\Users\\\\91721\\\\Desktop\\\\Final_project\\\\nail_imgs\\\\g26.jpeg',\n",
       " 'C:\\\\Users\\\\91721\\\\Desktop\\\\Final_project\\\\nail_imgs\\\\p25.jpeg',\n",
       " 'C:\\\\Users\\\\91721\\\\Desktop\\\\Final_project\\\\nail_imgs\\\\k13.jpeg',\n",
       " 'C:\\\\Users\\\\91721\\\\Desktop\\\\Final_project\\\\nail_imgs\\\\p5.jpeg',\n",
       " 'C:\\\\Users\\\\91721\\\\Desktop\\\\Final_project\\\\nail_imgs\\\\p27.jpeg',\n",
       " 'C:\\\\Users\\\\91721\\\\Desktop\\\\Final_project\\\\nail_imgs\\\\n2.jpg',\n",
       " 'C:\\\\Users\\\\91721\\\\Desktop\\\\Final_project\\\\nail_imgs\\\\p7.jpeg',\n",
       " 'C:\\\\Users\\\\91721\\\\Desktop\\\\Final_project\\\\nail_imgs\\\\h33.jpg',\n",
       " 'C:\\\\Users\\\\91721\\\\Desktop\\\\Final_project\\\\nail_imgs\\\\h48.jpg',\n",
       " 'C:\\\\Users\\\\91721\\\\Desktop\\\\Final_project\\\\nail_imgs\\\\g9.jpeg',\n",
       " 'C:\\\\Users\\\\91721\\\\Desktop\\\\Final_project\\\\nail_imgs\\\\g3.jpeg',\n",
       " 'C:\\\\Users\\\\91721\\\\Desktop\\\\Final_project\\\\nail_imgs\\\\p35.jpeg',\n",
       " 'C:\\\\Users\\\\91721\\\\Desktop\\\\Final_project\\\\nail_imgs\\\\k19.jpeg',\n",
       " 'C:\\\\Users\\\\91721\\\\Desktop\\\\Final_project\\\\nail_imgs\\\\g19.jpeg',\n",
       " 'C:\\\\Users\\\\91721\\\\Desktop\\\\Final_project\\\\nail_imgs\\\\h7.jpg',\n",
       " 'C:\\\\Users\\\\91721\\\\Desktop\\\\Final_project\\\\nail_imgs\\\\g11.jpeg',\n",
       " 'C:\\\\Users\\\\91721\\\\Desktop\\\\Final_project\\\\nail_imgs\\\\p11.jpeg',\n",
       " 'C:\\\\Users\\\\91721\\\\Desktop\\\\Final_project\\\\nail_imgs\\\\p8.jpeg',\n",
       " 'C:\\\\Users\\\\91721\\\\Desktop\\\\Final_project\\\\nail_imgs\\\\p46.jpeg',\n",
       " 'C:\\\\Users\\\\91721\\\\Desktop\\\\Final_project\\\\nail_imgs\\\\g21.jpeg',\n",
       " 'C:\\\\Users\\\\91721\\\\Desktop\\\\Final_project\\\\nail_imgs\\\\p48.jpeg',\n",
       " 'C:\\\\Users\\\\91721\\\\Desktop\\\\Final_project\\\\nail_imgs\\\\p20.jpeg',\n",
       " 'C:\\\\Users\\\\91721\\\\Desktop\\\\Final_project\\\\nail_imgs\\\\h40.jpg',\n",
       " 'C:\\\\Users\\\\91721\\\\Desktop\\\\Final_project\\\\nail_imgs\\\\h28.jpg',\n",
       " 'C:\\\\Users\\\\91721\\\\Desktop\\\\Final_project\\\\nail_imgs\\\\k25.jpeg',\n",
       " 'C:\\\\Users\\\\91721\\\\Desktop\\\\Final_project\\\\nail_imgs\\\\k11.png',\n",
       " 'C:\\\\Users\\\\91721\\\\Desktop\\\\Final_project\\\\nail_imgs\\\\p15.jpeg',\n",
       " 'C:\\\\Users\\\\91721\\\\Desktop\\\\Final_project\\\\nail_imgs\\\\g29.jpeg',\n",
       " 'C:\\\\Users\\\\91721\\\\Desktop\\\\Final_project\\\\nail_imgs\\\\p45.jpeg',\n",
       " 'C:\\\\Users\\\\91721\\\\Desktop\\\\Final_project\\\\nail_imgs\\\\p33.jpeg',\n",
       " 'C:\\\\Users\\\\91721\\\\Desktop\\\\Final_project\\\\nail_imgs\\\\k32.jpeg',\n",
       " 'C:\\\\Users\\\\91721\\\\Desktop\\\\Final_project\\\\nail_imgs\\\\h22.jpg',\n",
       " 'C:\\\\Users\\\\91721\\\\Desktop\\\\Final_project\\\\nail_imgs\\\\n14.jpeg',\n",
       " 'C:\\\\Users\\\\91721\\\\Desktop\\\\Final_project\\\\nail_imgs\\\\k34.jpeg',\n",
       " 'C:\\\\Users\\\\91721\\\\Desktop\\\\Final_project\\\\nail_imgs\\\\p18.jpeg',\n",
       " 'C:\\\\Users\\\\91721\\\\Desktop\\\\Final_project\\\\nail_imgs\\\\g15.jpeg',\n",
       " 'C:\\\\Users\\\\91721\\\\Desktop\\\\Final_project\\\\nail_imgs\\\\p43.jpeg',\n",
       " 'C:\\\\Users\\\\91721\\\\Desktop\\\\Final_project\\\\nail_imgs\\\\k20.jpeg',\n",
       " 'C:\\\\Users\\\\91721\\\\Desktop\\\\Final_project\\\\nail_imgs\\\\p40.jpeg',\n",
       " 'C:\\\\Users\\\\91721\\\\Desktop\\\\Final_project\\\\nail_imgs\\\\p14.jpeg',\n",
       " 'C:\\\\Users\\\\91721\\\\Desktop\\\\Final_project\\\\nail_imgs\\\\g14.jpeg',\n",
       " 'C:\\\\Users\\\\91721\\\\Desktop\\\\Final_project\\\\nail_imgs\\\\p34.jpeg',\n",
       " 'C:\\\\Users\\\\91721\\\\Desktop\\\\Final_project\\\\nail_imgs\\\\k39.jpeg',\n",
       " 'C:\\\\Users\\\\91721\\\\Desktop\\\\Final_project\\\\nail_imgs\\\\h30.jpg',\n",
       " 'C:\\\\Users\\\\91721\\\\Desktop\\\\Final_project\\\\nail_imgs\\\\p6.jpeg',\n",
       " 'C:\\\\Users\\\\91721\\\\Desktop\\\\Final_project\\\\nail_imgs\\\\h32.jpg',\n",
       " 'C:\\\\Users\\\\91721\\\\Desktop\\\\Final_project\\\\nail_imgs\\\\h19.jpg',\n",
       " 'C:\\\\Users\\\\91721\\\\Desktop\\\\Final_project\\\\nail_imgs\\\\h53.jpg',\n",
       " 'C:\\\\Users\\\\91721\\\\Desktop\\\\Final_project\\\\nail_imgs\\\\h43.jpg',\n",
       " 'C:\\\\Users\\\\91721\\\\Desktop\\\\Final_project\\\\nail_imgs\\\\k15.jpeg',\n",
       " 'C:\\\\Users\\\\91721\\\\Desktop\\\\Final_project\\\\nail_imgs\\\\p16.jpeg',\n",
       " 'C:\\\\Users\\\\91721\\\\Desktop\\\\Final_project\\\\nail_imgs\\\\p22.jpeg',\n",
       " 'C:\\\\Users\\\\91721\\\\Desktop\\\\Final_project\\\\nail_imgs\\\\p44.jpeg',\n",
       " 'C:\\\\Users\\\\91721\\\\Desktop\\\\Final_project\\\\nail_imgs\\\\h15.jpg',\n",
       " 'C:\\\\Users\\\\91721\\\\Desktop\\\\Final_project\\\\nail_imgs\\\\h8.jpeg',\n",
       " 'C:\\\\Users\\\\91721\\\\Desktop\\\\Final_project\\\\nail_imgs\\\\p9.jpeg',\n",
       " 'C:\\\\Users\\\\91721\\\\Desktop\\\\Final_project\\\\nail_imgs\\\\k18.jpeg',\n",
       " 'C:\\\\Users\\\\91721\\\\Desktop\\\\Final_project\\\\nail_imgs\\\\h50.jpg',\n",
       " 'C:\\\\Users\\\\91721\\\\Desktop\\\\Final_project\\\\nail_imgs\\\\h3.jpg',\n",
       " 'C:\\\\Users\\\\91721\\\\Desktop\\\\Final_project\\\\nail_imgs\\\\h41.jpg',\n",
       " 'C:\\\\Users\\\\91721\\\\Desktop\\\\Final_project\\\\nail_imgs\\\\g23.jpeg',\n",
       " 'C:\\\\Users\\\\91721\\\\Desktop\\\\Final_project\\\\nail_imgs\\\\h51.jpg',\n",
       " 'C:\\\\Users\\\\91721\\\\Desktop\\\\Final_project\\\\nail_imgs\\\\n10.jpg',\n",
       " 'C:\\\\Users\\\\91721\\\\Desktop\\\\Final_project\\\\nail_imgs\\\\g28.jpeg',\n",
       " 'C:\\\\Users\\\\91721\\\\Desktop\\\\Final_project\\\\nail_imgs\\\\n7.jpg',\n",
       " 'C:\\\\Users\\\\91721\\\\Desktop\\\\Final_project\\\\nail_imgs\\\\h52.jpg',\n",
       " 'C:\\\\Users\\\\91721\\\\Desktop\\\\Final_project\\\\nail_imgs\\\\h36.jpg',\n",
       " 'C:\\\\Users\\\\91721\\\\Desktop\\\\Final_project\\\\nail_imgs\\\\h16.jpg',\n",
       " 'C:\\\\Users\\\\91721\\\\Desktop\\\\Final_project\\\\nail_imgs\\\\k29.jpeg',\n",
       " 'C:\\\\Users\\\\91721\\\\Desktop\\\\Final_project\\\\nail_imgs\\\\k14.jpeg',\n",
       " 'C:\\\\Users\\\\91721\\\\Desktop\\\\Final_project\\\\nail_imgs\\\\g6.jpeg',\n",
       " 'C:\\\\Users\\\\91721\\\\Desktop\\\\Final_project\\\\nail_imgs\\\\g17.jpeg',\n",
       " 'C:\\\\Users\\\\91721\\\\Desktop\\\\Final_project\\\\nail_imgs\\\\h18.jpg',\n",
       " 'C:\\\\Users\\\\91721\\\\Desktop\\\\Final_project\\\\nail_imgs\\\\h6.jpg',\n",
       " 'C:\\\\Users\\\\91721\\\\Desktop\\\\Final_project\\\\nail_imgs\\\\h26.jpg',\n",
       " 'C:\\\\Users\\\\91721\\\\Desktop\\\\Final_project\\\\nail_imgs\\\\h20.jpg',\n",
       " 'C:\\\\Users\\\\91721\\\\Desktop\\\\Final_project\\\\nail_imgs\\\\h27.jpg',\n",
       " 'C:\\\\Users\\\\91721\\\\Desktop\\\\Final_project\\\\nail_imgs\\\\g30.jpeg',\n",
       " 'C:\\\\Users\\\\91721\\\\Desktop\\\\Final_project\\\\nail_imgs\\\\n8.jpg',\n",
       " 'C:\\\\Users\\\\91721\\\\Desktop\\\\Final_project\\\\nail_imgs\\\\h9.jpg')"
      ]
     },
     "execution_count": 8,
     "metadata": {},
     "output_type": "execute_result"
    }
   ],
   "source": [
    "img_train"
   ]
  },
  {
   "cell_type": "code",
   "execution_count": 9,
   "id": "c5eac39c-8ab5-4098-9791-531219311423",
   "metadata": {},
   "outputs": [],
   "source": [
    "img_test = tuple(img_df.query(f'Path not in {img_train}')['Path']) #take rest 20% images"
   ]
  },
  {
   "cell_type": "code",
   "execution_count": 10,
   "id": "8369516a-35a2-494b-86f8-3c881c61fa33",
   "metadata": {},
   "outputs": [
    {
     "data": {
      "text/plain": [
       "('C:\\\\Users\\\\91721\\\\Desktop\\\\Final_project\\\\nail_imgs\\\\n4.jpg',\n",
       " 'C:\\\\Users\\\\91721\\\\Desktop\\\\Final_project\\\\nail_imgs\\\\n9.jpg',\n",
       " 'C:\\\\Users\\\\91721\\\\Desktop\\\\Final_project\\\\nail_imgs\\\\g1.jpeg',\n",
       " 'C:\\\\Users\\\\91721\\\\Desktop\\\\Final_project\\\\nail_imgs\\\\g4.jpeg',\n",
       " 'C:\\\\Users\\\\91721\\\\Desktop\\\\Final_project\\\\nail_imgs\\\\g13.jpeg',\n",
       " 'C:\\\\Users\\\\91721\\\\Desktop\\\\Final_project\\\\nail_imgs\\\\g22.jpeg',\n",
       " 'C:\\\\Users\\\\91721\\\\Desktop\\\\Final_project\\\\nail_imgs\\\\g25.jpeg',\n",
       " 'C:\\\\Users\\\\91721\\\\Desktop\\\\Final_project\\\\nail_imgs\\\\h1.jpg',\n",
       " 'C:\\\\Users\\\\91721\\\\Desktop\\\\Final_project\\\\nail_imgs\\\\h2.jpg',\n",
       " 'C:\\\\Users\\\\91721\\\\Desktop\\\\Final_project\\\\nail_imgs\\\\h4.jpg',\n",
       " 'C:\\\\Users\\\\91721\\\\Desktop\\\\Final_project\\\\nail_imgs\\\\h5.jpg',\n",
       " 'C:\\\\Users\\\\91721\\\\Desktop\\\\Final_project\\\\nail_imgs\\\\h10.jpg',\n",
       " 'C:\\\\Users\\\\91721\\\\Desktop\\\\Final_project\\\\nail_imgs\\\\h14.jpg',\n",
       " 'C:\\\\Users\\\\91721\\\\Desktop\\\\Final_project\\\\nail_imgs\\\\h23.jpg',\n",
       " 'C:\\\\Users\\\\91721\\\\Desktop\\\\Final_project\\\\nail_imgs\\\\h25.jpg',\n",
       " 'C:\\\\Users\\\\91721\\\\Desktop\\\\Final_project\\\\nail_imgs\\\\h38.jpg',\n",
       " 'C:\\\\Users\\\\91721\\\\Desktop\\\\Final_project\\\\nail_imgs\\\\h42.jpg',\n",
       " 'C:\\\\Users\\\\91721\\\\Desktop\\\\Final_project\\\\nail_imgs\\\\h47.jpg',\n",
       " 'C:\\\\Users\\\\91721\\\\Desktop\\\\Final_project\\\\nail_imgs\\\\k22.jpeg',\n",
       " 'C:\\\\Users\\\\91721\\\\Desktop\\\\Final_project\\\\nail_imgs\\\\k24.jpeg',\n",
       " 'C:\\\\Users\\\\91721\\\\Desktop\\\\Final_project\\\\nail_imgs\\\\k26.jpeg',\n",
       " 'C:\\\\Users\\\\91721\\\\Desktop\\\\Final_project\\\\nail_imgs\\\\k27.jpeg',\n",
       " 'C:\\\\Users\\\\91721\\\\Desktop\\\\Final_project\\\\nail_imgs\\\\k28.jpeg',\n",
       " 'C:\\\\Users\\\\91721\\\\Desktop\\\\Final_project\\\\nail_imgs\\\\k37.jpeg',\n",
       " 'C:\\\\Users\\\\91721\\\\Desktop\\\\Final_project\\\\nail_imgs\\\\k41.jpeg',\n",
       " 'C:\\\\Users\\\\91721\\\\Desktop\\\\Final_project\\\\nail_imgs\\\\p2.jpeg',\n",
       " 'C:\\\\Users\\\\91721\\\\Desktop\\\\Final_project\\\\nail_imgs\\\\p3.jpeg',\n",
       " 'C:\\\\Users\\\\91721\\\\Desktop\\\\Final_project\\\\nail_imgs\\\\p12.jpeg',\n",
       " 'C:\\\\Users\\\\91721\\\\Desktop\\\\Final_project\\\\nail_imgs\\\\p13.jpeg',\n",
       " 'C:\\\\Users\\\\91721\\\\Desktop\\\\Final_project\\\\nail_imgs\\\\p19.jpeg',\n",
       " 'C:\\\\Users\\\\91721\\\\Desktop\\\\Final_project\\\\nail_imgs\\\\p24.jpeg',\n",
       " 'C:\\\\Users\\\\91721\\\\Desktop\\\\Final_project\\\\nail_imgs\\\\p28.jpeg',\n",
       " 'C:\\\\Users\\\\91721\\\\Desktop\\\\Final_project\\\\nail_imgs\\\\p30.jpeg',\n",
       " 'C:\\\\Users\\\\91721\\\\Desktop\\\\Final_project\\\\nail_imgs\\\\p36.jpeg',\n",
       " 'C:\\\\Users\\\\91721\\\\Desktop\\\\Final_project\\\\nail_imgs\\\\p42.jpeg',\n",
       " 'C:\\\\Users\\\\91721\\\\Desktop\\\\Final_project\\\\nail_imgs\\\\p49.jpeg',\n",
       " 'C:\\\\Users\\\\91721\\\\Desktop\\\\Final_project\\\\nail_imgs\\\\p52.jpeg')"
      ]
     },
     "execution_count": 10,
     "metadata": {},
     "output_type": "execute_result"
    }
   ],
   "source": [
    "img_test"
   ]
  },
  {
   "cell_type": "code",
   "execution_count": 11,
   "id": "e8b0829c-011c-4dd2-8e3b-3279d6d76cab",
   "metadata": {},
   "outputs": [
    {
     "data": {
      "text/plain": [
       "(147, 37)"
      ]
     },
     "execution_count": 11,
     "metadata": {},
     "output_type": "execute_result"
    }
   ],
   "source": [
    "len(img_train), len(img_test)"
   ]
  },
  {
   "cell_type": "code",
   "execution_count": 12,
   "id": "c3d28c8a-f1f8-4fd3-a9ec-2a34a5f806ca",
   "metadata": {},
   "outputs": [],
   "source": [
    "train_df = df.query(f'Path in {img_train}')\n",
    "test_df = df.query(f'Path in {img_test}')"
   ]
  },
  {
   "cell_type": "code",
   "execution_count": 13,
   "id": "49cbea18-03c7-46cd-9c73-51aa8c16a6d2",
   "metadata": {
    "scrolled": true
   },
   "outputs": [
    {
     "data": {
      "text/html": [
       "<div>\n",
       "<style scoped>\n",
       "    .dataframe tbody tr th:only-of-type {\n",
       "        vertical-align: middle;\n",
       "    }\n",
       "\n",
       "    .dataframe tbody tr th {\n",
       "        vertical-align: top;\n",
       "    }\n",
       "\n",
       "    .dataframe thead th {\n",
       "        text-align: right;\n",
       "    }\n",
       "</style>\n",
       "<table border=\"1\" class=\"dataframe\">\n",
       "  <thead>\n",
       "    <tr style=\"text-align: right;\">\n",
       "      <th></th>\n",
       "      <th>Path</th>\n",
       "      <th>Pregnant/Non-pregnant</th>\n",
       "    </tr>\n",
       "  </thead>\n",
       "  <tbody>\n",
       "    <tr>\n",
       "      <th>0</th>\n",
       "      <td>C:\\Users\\91721\\Desktop\\Final_project\\nail_imgs...</td>\n",
       "      <td>Pregnant</td>\n",
       "    </tr>\n",
       "    <tr>\n",
       "      <th>1</th>\n",
       "      <td>C:\\Users\\91721\\Desktop\\Final_project\\nail_imgs...</td>\n",
       "      <td>Pregnant</td>\n",
       "    </tr>\n",
       "    <tr>\n",
       "      <th>2</th>\n",
       "      <td>C:\\Users\\91721\\Desktop\\Final_project\\nail_imgs...</td>\n",
       "      <td>Pregnant</td>\n",
       "    </tr>\n",
       "    <tr>\n",
       "      <th>4</th>\n",
       "      <td>C:\\Users\\91721\\Desktop\\Final_project\\nail_imgs...</td>\n",
       "      <td>Pregnant</td>\n",
       "    </tr>\n",
       "    <tr>\n",
       "      <th>5</th>\n",
       "      <td>C:\\Users\\91721\\Desktop\\Final_project\\nail_imgs...</td>\n",
       "      <td>Pregnant</td>\n",
       "    </tr>\n",
       "  </tbody>\n",
       "</table>\n",
       "</div>"
      ],
      "text/plain": [
       "                                                Path Pregnant/Non-pregnant\n",
       "0  C:\\Users\\91721\\Desktop\\Final_project\\nail_imgs...              Pregnant\n",
       "1  C:\\Users\\91721\\Desktop\\Final_project\\nail_imgs...              Pregnant\n",
       "2  C:\\Users\\91721\\Desktop\\Final_project\\nail_imgs...              Pregnant\n",
       "4  C:\\Users\\91721\\Desktop\\Final_project\\nail_imgs...              Pregnant\n",
       "5  C:\\Users\\91721\\Desktop\\Final_project\\nail_imgs...              Pregnant"
      ]
     },
     "execution_count": 13,
     "metadata": {},
     "output_type": "execute_result"
    }
   ],
   "source": [
    "train_df.head()"
   ]
  },
  {
   "cell_type": "code",
   "execution_count": 14,
   "id": "115494a6-8003-46c5-a6e8-443574b52fbe",
   "metadata": {},
   "outputs": [
    {
     "data": {
      "text/html": [
       "<div>\n",
       "<style scoped>\n",
       "    .dataframe tbody tr th:only-of-type {\n",
       "        vertical-align: middle;\n",
       "    }\n",
       "\n",
       "    .dataframe tbody tr th {\n",
       "        vertical-align: top;\n",
       "    }\n",
       "\n",
       "    .dataframe thead th {\n",
       "        text-align: right;\n",
       "    }\n",
       "</style>\n",
       "<table border=\"1\" class=\"dataframe\">\n",
       "  <thead>\n",
       "    <tr style=\"text-align: right;\">\n",
       "      <th></th>\n",
       "      <th>Path</th>\n",
       "      <th>Pregnant/Non-pregnant</th>\n",
       "    </tr>\n",
       "  </thead>\n",
       "  <tbody>\n",
       "    <tr>\n",
       "      <th>3</th>\n",
       "      <td>C:\\Users\\91721\\Desktop\\Final_project\\nail_imgs...</td>\n",
       "      <td>Pregnant</td>\n",
       "    </tr>\n",
       "    <tr>\n",
       "      <th>8</th>\n",
       "      <td>C:\\Users\\91721\\Desktop\\Final_project\\nail_imgs...</td>\n",
       "      <td>Pregnant</td>\n",
       "    </tr>\n",
       "    <tr>\n",
       "      <th>11</th>\n",
       "      <td>C:\\Users\\91721\\Desktop\\Final_project\\nail_imgs...</td>\n",
       "      <td>Non-Pregnant</td>\n",
       "    </tr>\n",
       "    <tr>\n",
       "      <th>14</th>\n",
       "      <td>C:\\Users\\91721\\Desktop\\Final_project\\nail_imgs...</td>\n",
       "      <td>Non-Pregnant</td>\n",
       "    </tr>\n",
       "    <tr>\n",
       "      <th>23</th>\n",
       "      <td>C:\\Users\\91721\\Desktop\\Final_project\\nail_imgs...</td>\n",
       "      <td>Non-Pregnant</td>\n",
       "    </tr>\n",
       "  </tbody>\n",
       "</table>\n",
       "</div>"
      ],
      "text/plain": [
       "                                                 Path Pregnant/Non-pregnant\n",
       "3   C:\\Users\\91721\\Desktop\\Final_project\\nail_imgs...              Pregnant\n",
       "8   C:\\Users\\91721\\Desktop\\Final_project\\nail_imgs...              Pregnant\n",
       "11  C:\\Users\\91721\\Desktop\\Final_project\\nail_imgs...          Non-Pregnant\n",
       "14  C:\\Users\\91721\\Desktop\\Final_project\\nail_imgs...          Non-Pregnant\n",
       "23  C:\\Users\\91721\\Desktop\\Final_project\\nail_imgs...          Non-Pregnant"
      ]
     },
     "execution_count": 14,
     "metadata": {},
     "output_type": "execute_result"
    }
   ],
   "source": [
    "test_df.head()"
   ]
  },
  {
   "cell_type": "code",
   "execution_count": 16,
   "id": "753054a5-372d-4afd-b62e-ec84a1be256a",
   "metadata": {},
   "outputs": [],
   "source": [
    "#move images to folder"
   ]
  },
  {
   "cell_type": "code",
   "execution_count": 17,
   "id": "3354f675-f06b-4b75-9013-315461e49819",
   "metadata": {},
   "outputs": [],
   "source": [
    "import os\n",
    "from shutil import move"
   ]
  },
  {
   "cell_type": "code",
   "execution_count": 18,
   "id": "a4f0b29e-72fa-4b91-838c-e8aba898becf",
   "metadata": {},
   "outputs": [],
   "source": [
    "train_folder = 'nail_imgs/train'\n",
    "test_folder = 'nail_imgs/test'\n",
    "\n",
    "os.mkdir(train_folder)\n",
    "os.mkdir(test_folder)"
   ]
  },
  {
   "cell_type": "code",
   "execution_count": 19,
   "id": "7a09a0d0-1221-4272-8272-9f8f679e5c3d",
   "metadata": {},
   "outputs": [],
   "source": [
    "cols = ['Path','Pregnant/Non-pregnant']\n",
    "groupby_obj_train = train_df[cols].groupby('Path')\n",
    "groupby_obj_test = test_df[cols].groupby('Path')"
   ]
  },
  {
   "cell_type": "code",
   "execution_count": 21,
   "id": "61500a79-d899-407a-a151-644f4019deb3",
   "metadata": {},
   "outputs": [],
   "source": [
    "def save_data(Path, folder_path, group_obj):\n",
    "    src = os.path.join('nail_imgs',Path)\n",
    "    dst = os.path.join(folder_path,Path)\n",
    "    move(src,dst)\n",
    "    text_Path = os.path.join(folder_path,\n",
    "                 os.path.splitext(Path)[0]+'.txt')\n",
    "    group_obj.get_group(Path).set_index('Path').to_csv( text_Path,sep=' ',index=False,header=False)"
   ]
  },
  {
   "cell_type": "code",
   "execution_count": 24,
   "id": "b1fb8278-21d9-499c-b073-82b31131d4cd",
   "metadata": {},
   "outputs": [],
   "source": [
    "Path_series = pd.Series(groupby_obj_train.groups.keys())"
   ]
  },
  {
   "cell_type": "code",
   "execution_count": 26,
   "id": "5e75537f-cbe8-43dc-986a-1c4594b0bee1",
   "metadata": {},
   "outputs": [
    {
     "data": {
      "text/plain": [
       "0    C:\\Users\\91721\\Desktop\\Final_project\\nail_imgs...\n",
       "1    C:\\Users\\91721\\Desktop\\Final_project\\nail_imgs...\n",
       "dtype: object"
      ]
     },
     "execution_count": 26,
     "metadata": {},
     "output_type": "execute_result"
    }
   ],
   "source": [
    "Path_series.head(2)"
   ]
  },
  {
   "cell_type": "code",
   "execution_count": 27,
   "id": "0f978733-1933-4113-982a-91b5f022f7c5",
   "metadata": {},
   "outputs": [
    {
     "data": {
      "text/plain": [
       "0    None\n",
       "1    None\n",
       "dtype: object"
      ]
     },
     "execution_count": 27,
     "metadata": {},
     "output_type": "execute_result"
    }
   ],
   "source": [
    "Path_series.head(2).apply(save_data,args=(train_folder,groupby_obj_train))"
   ]
  },
  {
   "cell_type": "code",
   "execution_count": null,
   "id": "355de461-5019-4e79-9fad-ce58c5e9af22",
   "metadata": {},
   "outputs": [],
   "source": []
  }
 ],
 "metadata": {
  "kernelspec": {
   "display_name": "Python 3 (ipykernel)",
   "language": "python",
   "name": "python3"
  },
  "language_info": {
   "codemirror_mode": {
    "name": "ipython",
    "version": 3
   },
   "file_extension": ".py",
   "mimetype": "text/x-python",
   "name": "python",
   "nbconvert_exporter": "python",
   "pygments_lexer": "ipython3",
   "version": "3.11.4"
  }
 },
 "nbformat": 4,
 "nbformat_minor": 5
}
